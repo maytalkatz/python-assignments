{
 "cells": [
  {
   "cell_type": "code",
   "execution_count": 11,
   "id": "1118c73d-129f-4906-b3ae-be4da0bf685b",
   "metadata": {},
   "outputs": [
    {
     "name": "stdout",
     "output_type": "stream",
     "text": [
      "the circumference of a rectangle with width of  7 and length of  3 equals to  20\n",
      "the circumference of the circle with radius of  6 equals to  37.69911184307752\n",
      "the area of the rectangle with width of  7 and length of  3 equals to  21\n",
      "the area of the circle with radius of  6 equals to  113.09733552923255\n"
     ]
    }
   ],
   "source": [
    "import math\n",
    "width = 7\n",
    "length = 3\n",
    "radius = 6\n",
    "\n",
    "circ_circle = 2 * math.pi * radius\n",
    "circ_rect = 2 * (width + length)\n",
    "area_circle = math.pi * radius ** 2\n",
    "area_rect = width * length\n",
    "\n",
    "print(\"the circumference of a rectangle with width of \",width, \"and length of \", length, \"equals to \", circ_rect)\n",
    "print(\"the circumference of the circle with radius of \",radius, \"equals to \",circ_circle)\n",
    "print(\"the area of the rectangle with width of \",width, \"and length of \", length, \"equals to \", area_rect)\n",
    "print(\"the area of the circle with radius of \",radius, \"equals to \",area_circle)"
   ]
  },
  {
   "cell_type": "code",
   "execution_count": null,
   "id": "cd7ae518-0442-4e26-ac9f-f68a17746dd5",
   "metadata": {},
   "outputs": [],
   "source": []
  }
 ],
 "metadata": {
  "kernelspec": {
   "display_name": "Python 3 (ipykernel)",
   "language": "python",
   "name": "python3"
  },
  "language_info": {
   "codemirror_mode": {
    "name": "ipython",
    "version": 3
   },
   "file_extension": ".py",
   "mimetype": "text/x-python",
   "name": "python",
   "nbconvert_exporter": "python",
   "pygments_lexer": "ipython3",
   "version": "3.12.7"
  }
 },
 "nbformat": 4,
 "nbformat_minor": 5
}
