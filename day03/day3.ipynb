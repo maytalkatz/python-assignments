{
 "cells": [
  {
   "cell_type": "code",
   "execution_count": 1,
   "id": "1118c73d-129f-4906-b3ae-be4da0bf685b",
   "metadata": {},
   "outputs": [
    {
     "name": "stdin",
     "output_type": "stream",
     "text": [
      "Width of the rectangle:  4\n",
      "Height of the rectangle:  23\n",
      "Radius of the circle:  14\n"
     ]
    },
    {
     "name": "stdout",
     "output_type": "stream",
     "text": [
      "The area of the circle is: 615.7521601035994\n",
      "The circumference of the circle is: 87.96459430051421\n",
      "The area of the rectangle is: 92.0\n",
      "The circumference of the rectangle is: 54.0\n"
     ]
    }
   ],
   "source": [
    "import math\n",
    "width = float(input(\"Width of the rectangle: \"))\n",
    "length = float(input(\"Height of the rectangle: \"))\n",
    "radius = float(input(\"Radius of the circle: \"))\n",
    "\n",
    "circ_circle = 2 * math.pi * radius\n",
    "circ_rect = 2 * (width + length)\n",
    "area_circle = math.pi * radius ** 2\n",
    "area_rect = width * length\n",
    "\n",
    "\n",
    "print(f\"The area of the circle is: {area_circle}\")\n",
    "print(f\"The circumference of the circle is: {circ_circle}\")\n",
    "print(f\"The area of the rectangle is: {area_rect}\")\n",
    "print(f\"The circumference of the rectangle is: {circ_rect}\")\n"
   ]
  },
  {
   "cell_type": "code",
   "execution_count": null,
   "id": "cd7ae518-0442-4e26-ac9f-f68a17746dd5",
   "metadata": {},
   "outputs": [],
   "source": []
  }
 ],
 "metadata": {
  "kernelspec": {
   "display_name": "Python 3 (ipykernel)",
   "language": "python",
   "name": "python3"
  },
  "language_info": {
   "codemirror_mode": {
    "name": "ipython",
    "version": 3
   },
   "file_extension": ".py",
   "mimetype": "text/x-python",
   "name": "python",
   "nbconvert_exporter": "python",
   "pygments_lexer": "ipython3",
   "version": "3.12.7"
  }
 },
 "nbformat": 4,
 "nbformat_minor": 5
}
